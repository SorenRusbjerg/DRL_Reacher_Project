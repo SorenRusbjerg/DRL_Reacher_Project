{
 "cells": [
  {
   "cell_type": "markdown",
   "metadata": {},
   "source": [
    "# Continuous Control\n",
    "\n",
    "---\n",
    "\n",
    "In this notebook, you will learn how to use the Unity ML-Agents environment for the second project of the [Deep Reinforcement Learning Nanodegree](https://www.udacity.com/course/deep-reinforcement-learning-nanodegree--nd893) program.\n",
    "\n",
    "## Start the Environment\n",
    "\n",
    "We begin by importing the necessary packages.  If the code cell below returns an error, please revisit the project instructions to double-check that you have installed [Unity ML-Agents](https://github.com/Unity-Technologies/ml-agents/blob/master/docs/Installation.md) and [NumPy](http://www.numpy.org/)."
   ]
  },
  {
   "cell_type": "markdown",
   "metadata": {},
   "source": [
    "Environments contain **_brains_** which are responsible for deciding the actions of their associated agents. Here we check for the first brain available, and set it as the default brain we will be controlling from Python."
   ]
  },
  {
   "cell_type": "markdown",
   "metadata": {},
   "source": [
    "# Train DDPG agent on Reacher\n",
    "## Imports and environment setup"
   ]
  },
  {
   "cell_type": "code",
   "execution_count": 1,
   "metadata": {},
   "outputs": [
    {
     "name": "stderr",
     "output_type": "stream",
     "text": [
      "INFO:unityagents:\n",
      "'Academy' started successfully!\n",
      "Unity Academy name: Academy\n",
      "        Number of Brains: 1\n",
      "        Number of External Brains : 1\n",
      "        Lesson number : 0\n",
      "        Reset Parameters :\n",
      "\t\tgoal_speed -> 1.0\n",
      "\t\tgoal_size -> 5.0\n",
      "Unity brain name: ReacherBrain\n",
      "        Number of Visual Observations (per agent): 0\n",
      "        Vector Observation space type: continuous\n",
      "        Vector Observation space size (per agent): 33\n",
      "        Number of stacked Vector Observation: 1\n",
      "        Vector Action space type: continuous\n",
      "        Vector Action space size (per agent): 4\n",
      "        Vector Action descriptions: , , , \n"
     ]
    },
    {
     "name": "stdout",
     "output_type": "stream",
     "text": [
      "Number of agents: 1\n",
      "Size of each action: 4\n"
     ]
    }
   ],
   "source": [
    "from ddpg_agent import Agent \n",
    "from unityagents import UnityEnvironment\n",
    "import numpy as np\n",
    "import matplotlib.pyplot as plt\n",
    "%matplotlib inline\n",
    "import time\n",
    "\n",
    "env = UnityEnvironment(file_name=\"Reacher_Linux/Reacher.x86\")\n",
    "# get the default brain\n",
    "brain_name = env.brain_names[0]\n",
    "brain = env.brains[brain_name]\n",
    "\n",
    "# reset the environment\n",
    "env_info = env.reset(train_mode=True)[brain_name]\n",
    "\n",
    "# number of agents\n",
    "num_agents = len(env_info.agents)\n",
    "print('Number of agents:', num_agents)\n",
    "\n",
    "# size of each action\n",
    "action_size = brain.vector_action_space_size\n",
    "print('Size of each action:', action_size)\n",
    "\n",
    "# examine the state space \n",
    "states = env_info.vector_observations\n",
    "state_size = states.shape[1]\n",
    "\n"
   ]
  },
  {
   "cell_type": "code",
   "execution_count": null,
   "metadata": {},
   "outputs": [],
   "source": [
    "load = False    # Load saved model\n",
    "filename = \"DDPG_Score_1.6.pth\"\n",
    "n_episodes = 1800\n",
    "max_t = 2000\n",
    "print_steps = 100\n",
    "save_score = 30\n",
    "# Create DDPG agent\n",
    "seed = 4\n",
    "agent = Agent(state_size, action_size, seed)\n",
    "\n",
    "# Load model\n",
    "if load:\n",
    "    agent.load_model(filename)\n",
    "    \n",
    "# get the current state (for each agent) so far only one agent is used\n",
    "states = env_info.vector_observations\n",
    "# initialize the score (for each agent)\n",
    "scores = []\n",
    "\n",
    "start = time.time()\n",
    "for i_episode in range(1, n_episodes+1):\n",
    "    state = env.reset()\n",
    "    sigma_noise = agent.reset()    # Reset process noise and reduce noise power\n",
    "    score = np.zeros(num_agents)\n",
    "    for t in range(max_t):\n",
    "        # select an action (for each agent)\n",
    "        actions = agent.act(states).reshape(\n",
    "            num_agents, action_size)\n",
    "        # all actions between -1 and 1\n",
    "        actions = np.clip(actions, -1, 1)\n",
    "        # send all actions to tne environment\n",
    "        env_info = env.step(actions)[brain_name]\n",
    "        # get next state (for each agent)\n",
    "        next_states = env_info.vector_observations\n",
    "        # get reward (for each agent)\n",
    "        rewards = env_info.rewards\n",
    "        dones = env_info.local_done                        # see if episode finished\n",
    "\n",
    "        # Do agent step to save experience and train DDPG actor-critic networks\n",
    "        agent.step(states, actions, rewards, next_states, dones)\n",
    "\n",
    "        # update the score (for each agent)\n",
    "        score += env_info.rewards\n",
    "        #scores.append(env_info.rewards\n",
    "        # roll over states to next time step\n",
    "        states = next_states\n",
    "        # exit loop if episode finished\n",
    "        if np.any(dones):\n",
    "            break\n",
    "            \n",
    "    scores.append(np.mean(score))\n",
    "    print('\\rEpisode {}\\tScore: {:.2f} \\tSigma_noise: {:.3f}'.format(i_episode, score[0], sigma_noise), end=\"\")\n",
    "    \n",
    "    if i_episode % print_steps == 0:\n",
    "        end = time.time()    \n",
    "        mean_score = np.mean(scores[-print_steps:])\n",
    "        print('\\rEpisode {}\\tAverage Score: {:.2f} \\tTime/episode: {:.2f}'.format(i_episode, mean_score, (end-start)/print_steps, end=\"\"))\n",
    "        start = end\n",
    "        if mean_score >save_score:\n",
    "            agent.save_model(\"DDPG_Score_{:.1f}.pth\".format(mean_score))\n",
    "            save_score = mean_score + 1      \n",
    "            print('Agent saved! file=\"DDPG_Score_{:.1f}.pth\"'.format(mean_score))\n",
    "        \n",
    "    \n",
    "#print('Total score (averaged over agents) this episode: {}'.format(np.mean(score)))\n",
    "\n",
    "fig = plt.figure()\n",
    "ax = fig.add_subplot(111)\n",
    "plt.plot(np.arange(1, len(scores)+1), scores)\n",
    "plt.ylabel('Score')\n",
    "plt.xlabel('Episode #')\n",
    "plt.show()"
   ]
  },
  {
   "cell_type": "markdown",
   "metadata": {},
   "source": [
    "# Test trained agent"
   ]
  },
  {
   "cell_type": "code",
   "execution_count": 2,
   "metadata": {},
   "outputs": [
    {
     "name": "stdout",
     "output_type": "stream",
     "text": [
      "time steps:  1001\n",
      "Total score (averaged over agents) this episode: 31.08\n"
     ]
    }
   ],
   "source": [
    "load = True\n",
    "load_filename = \"DDPG_Score_37.8.pth\"\n",
    "if load:  # Run environment setup before loading agent\n",
    "    agent = Agent(state_size, action_size, 1)\n",
    "    agent.load_model(load_filename)\n",
    "\n",
    "env_info = env.reset(train_mode=False)[brain_name]     # reset the environment    \n",
    "states = env_info.vector_observations                  # get the current state (for each agent)\n",
    "scores = np.zeros(num_agents)                          # initialize the score (for each agent)\n",
    "n=0\n",
    "while True:\n",
    "    n+=1\n",
    "    # select an action (for each agent)\n",
    "    actions = agent.act(states).reshape(num_agents, action_size)\n",
    "    actions = np.clip(actions, -1, 1)                  # all actions between -1 and 1\n",
    "    env_info = env.step(actions)[brain_name]           # send all actions to tne environment\n",
    "    next_states = env_info.vector_observations         # get next state (for each agent)\n",
    "    rewards = env_info.rewards                         # get reward (for each agent)\n",
    "    dones = env_info.local_done                        # see if episode finished\n",
    "    scores += env_info.rewards                         # update the score (for each agent)\n",
    "    states = next_states                               # roll over states to next time step\n",
    "    if np.any(dones):                                  # exit loop if episode finished\n",
    "        print(\"time steps: \", n)\n",
    "        break\n",
    "print('Total score (averaged over agents) this episode: {:.2f}'.format(np.mean(scores)))"
   ]
  },
  {
   "cell_type": "code",
   "execution_count": null,
   "metadata": {},
   "outputs": [],
   "source": [
    "env.close()"
   ]
  }
 ],
 "metadata": {
  "kernelspec": {
   "display_name": "Python 3",
   "language": "python",
   "name": "python3"
  },
  "language_info": {
   "codemirror_mode": {
    "name": "ipython",
    "version": 3
   },
   "file_extension": ".py",
   "mimetype": "text/x-python",
   "name": "python",
   "nbconvert_exporter": "python",
   "pygments_lexer": "ipython3",
   "version": "3.6.12"
  },
  "latex_envs": {
   "LaTeX_envs_menu_present": true,
   "autoclose": false,
   "autocomplete": true,
   "bibliofile": "biblio.bib",
   "cite_by": "apalike",
   "current_citInitial": 1,
   "eqLabelWithNumbers": true,
   "eqNumInitial": 1,
   "hotkeys": {
    "equation": "Ctrl-E",
    "itemize": "Ctrl-I"
   },
   "labels_anchors": false,
   "latex_user_defs": false,
   "report_style_numbering": false,
   "user_envs_cfg": false
  },
  "toc": {
   "base_numbering": 1,
   "nav_menu": {},
   "number_sections": true,
   "sideBar": true,
   "skip_h1_title": false,
   "title_cell": "Table of Contents",
   "title_sidebar": "Contents",
   "toc_cell": false,
   "toc_position": {},
   "toc_section_display": true,
   "toc_window_display": false
  },
  "varInspector": {
   "cols": {
    "lenName": 16,
    "lenType": 16,
    "lenVar": 40
   },
   "kernels_config": {
    "python": {
     "delete_cmd_postfix": "",
     "delete_cmd_prefix": "del ",
     "library": "var_list.py",
     "varRefreshCmd": "print(var_dic_list())"
    },
    "r": {
     "delete_cmd_postfix": ") ",
     "delete_cmd_prefix": "rm(",
     "library": "var_list.r",
     "varRefreshCmd": "cat(var_dic_list()) "
    }
   },
   "types_to_exclude": [
    "module",
    "function",
    "builtin_function_or_method",
    "instance",
    "_Feature"
   ],
   "window_display": false
  }
 },
 "nbformat": 4,
 "nbformat_minor": 2
}
